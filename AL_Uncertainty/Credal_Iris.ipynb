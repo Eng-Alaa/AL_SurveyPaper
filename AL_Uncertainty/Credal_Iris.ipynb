{
 "cells": [
  {
   "cell_type": "code",
   "execution_count": 1,
   "id": "aaf8e13d",
   "metadata": {},
   "outputs": [],
   "source": [
    "from sklearn.datasets import load_iris\n",
    "from sklearn.model_selection import train_test_split\n",
    "from sklearn.ensemble import RandomForestClassifier\n",
    "import numpy as np"
   ]
  },
  {
   "cell_type": "code",
   "execution_count": 7,
   "id": "b9f95a54",
   "metadata": {},
   "outputs": [],
   "source": [
    "def calculate_uncertainty_Entropy(X, model):\n",
    "    # Get predicted probabilities for each class\n",
    "    predicted_probs = model.predict_proba(X)    \n",
    "    # Check for zero probabilities and replace them with a small value\n",
    "    predicted_probs[predicted_probs == 0] = 1e-10\n",
    "    # Calculate uncertainty scores using the entropy\n",
    "    entropy = -np.sum(predicted_probs * np.log2(predicted_probs), axis=1)\n",
    "    # Handle the case of uniform probabilities\n",
    "    entropy[np.isnan(entropy)] = 0    \n",
    "    return entropy\n",
    "\n",
    "# Function to calculate the uncertainty score for a data point\n",
    "def calculate_uncertainty(x, models):\n",
    "    eps=0.00001\n",
    "    # Get the class probabilities for each model\n",
    "    class_probabilities = []\n",
    "    for model in models:\n",
    "        probabilities = model.predict_proba(x.reshape(1, -1))\n",
    "        class_probabilities.append(probabilities[0, 1])  # Probability of class 1\n",
    "    \n",
    "    # Calculate the lower and upper bound probabilities for class 1\n",
    "    lower_probability = min(class_probabilities)\n",
    "    upper_probability = max(class_probabilities)\n",
    "    \n",
    "    # Calculate the uncertainty score\n",
    "    uncertainty_score = -max(lower_probability / (1 - lower_probability+eps), (1 - upper_probability) / (upper_probability+eps))\n",
    "    \n",
    "    return uncertainty_score\n"
   ]
  },
  {
   "cell_type": "code",
   "execution_count": 3,
   "id": "8c57a57a",
   "metadata": {},
   "outputs": [],
   "source": [
    "# Load the Iris dataset\n",
    "iris = load_iris()\n",
    "X, y = iris.data[:, :2], iris.target\n",
    "# Filter the dataset for two classes (class 0 and class 1)\n",
    "class_indices = np.where((y == 0) | (y == 1))[0]\n",
    "X = X[class_indices]\n",
    "y = y[class_indices]"
   ]
  },
  {
   "cell_type": "code",
   "execution_count": 5,
   "id": "1a7acddf",
   "metadata": {
    "scrolled": true
   },
   "outputs": [
    {
     "name": "stdout",
     "output_type": "stream",
     "text": [
      "[[6.1 3.  1. ]\n",
      " [6.4 2.9 1. ]\n",
      " [6.7 3.1 1. ]\n",
      " [5.8 2.7 1. ]\n",
      " [5.4 3.4 0. ]\n",
      " [5.  2.  1. ]\n",
      " [6.1 2.8 1. ]\n",
      " [5.8 4.  0. ]\n",
      " [5.8 2.6 1. ]\n",
      " [6.4 3.2 1. ]]\n"
     ]
    }
   ],
   "source": [
    "# Split the dataset into labeled data and pool\n",
    "X_labeled, X_pool, y_labeled, y_pool = train_test_split(X, y, train_size=10, random_state=42)\n",
    "print(np.c_[X_labeled, y_labeled])"
   ]
  },
  {
   "cell_type": "code",
   "execution_count": 8,
   "id": "9c7efa58",
   "metadata": {},
   "outputs": [
    {
     "data": {
      "text/plain": [
       "RandomForestClassifier(random_state=44)"
      ]
     },
     "execution_count": 8,
     "metadata": {},
     "output_type": "execute_result"
    }
   ],
   "source": [
    "# Initialize the learning models\n",
    "model1 = RandomForestClassifier(random_state=42)\n",
    "model2 = RandomForestClassifier(random_state=43)\n",
    "model3 = RandomForestClassifier(random_state=44)\n",
    "\n",
    "# Train the learning models with the labeled data\n",
    "model1.fit(X_labeled, y_labeled)\n",
    "model2.fit(X_labeled, y_labeled)\n",
    "model3.fit(X_labeled, y_labeled)"
   ]
  },
  {
   "cell_type": "code",
   "execution_count": 15,
   "id": "01fe8751",
   "metadata": {},
   "outputs": [
    {
     "name": "stdout",
     "output_type": "stream",
     "text": [
      "Entropy [56 52 50 42 33 30 26 22  5 44]\n",
      "Credal [56 50  9 42 33 30 26 22  5 44]\n"
     ]
    }
   ],
   "source": [
    "# Calculate the uncertainty for each data point in the pool\n",
    "uncertainty_scores = []\n",
    "models = [model1, model2, model3]\n",
    "for x in X_pool:\n",
    "    uncertainty = calculate_uncertainty(x, models)\n",
    "    uncertainty_scores.append(uncertainty)\n",
    "\n",
    "uncertainty_scores=np.array(uncertainty_scores)\n",
    "uncertainty_entropy=calculate_uncertainty_Entropy(X_pool,model1)\n",
    "top_indices_entropy = np.argsort(uncertainty_entropy)[-10:]\n",
    "top_indices_credal = np.argsort(uncertainty_scores)[-10:]\n",
    "\n",
    "print(\"Entropy\", top_indices_entropy)\n",
    "print(\"Credal\", top_indices_credal)\n",
    "#print(np.c_[top_indices_entropy, top_indices_credal])"
   ]
  },
  {
   "cell_type": "code",
   "execution_count": 16,
   "id": "a5e53d86",
   "metadata": {},
   "outputs": [
    {
     "name": "stdout",
     "output_type": "stream",
     "text": [
      "Data point 1: Uncertainty score = -98.9011\n",
      "Data point 2: Uncertainty score = -2.4482\n",
      "Data point 3: Uncertainty score = -4.2629\n",
      "Data point 4: Uncertainty score = -3.5453\n",
      "Data point 5: Uncertainty score = -2.3333\n",
      "Data point 6: Uncertainty score = -1.5000\n",
      "Data point 7: Uncertainty score = -1.7777\n",
      "Data point 8: Uncertainty score = -2.4482\n",
      "Data point 9: Uncertainty score = -5.6663\n",
      "Data point 10: Uncertainty score = -1.5000\n",
      "Data point 11: Uncertainty score = -3.5453\n",
      "Data point 12: Uncertainty score = -2.5713\n",
      "Data point 13: Uncertainty score = -98.9011\n",
      "Data point 14: Uncertainty score = -8.9991\n",
      "Data point 15: Uncertainty score = -2.4482\n",
      "Data point 16: Uncertainty score = -1.7777\n",
      "Data point 17: Uncertainty score = -100000.0000\n",
      "Data point 18: Uncertainty score = -100000.0000\n",
      "Data point 19: Uncertainty score = -3.5453\n",
      "Data point 20: Uncertainty score = -2.7036\n",
      "Data point 21: Uncertainty score = -11.4986\n",
      "Data point 22: Uncertainty score = -1.8571\n",
      "Data point 23: Uncertainty score = -1.5000\n",
      "Data point 24: Uncertainty score = -2.4482\n",
      "Data point 25: Uncertainty score = -2.4482\n",
      "Data point 26: Uncertainty score = -3.5453\n",
      "Data point 27: Uncertainty score = -1.5000\n",
      "Data point 28: Uncertainty score = -11.4986\n",
      "Data point 29: Uncertainty score = -2.5713\n",
      "Data point 30: Uncertainty score = -100000.0000\n",
      "Data point 31: Uncertainty score = -1.5000\n",
      "Data point 32: Uncertainty score = -2.4482\n",
      "Data point 33: Uncertainty score = -1.9411\n",
      "Data point 34: Uncertainty score = -1.5000\n",
      "Data point 35: Uncertainty score = -5.2497\n",
      "Data point 36: Uncertainty score = -5.6663\n",
      "Data point 37: Uncertainty score = -1.8571\n",
      "Data point 38: Uncertainty score = -98.9011\n",
      "Data point 39: Uncertainty score = -2.4482\n",
      "Data point 40: Uncertainty score = -5.6663\n",
      "Data point 41: Uncertainty score = -1.7027\n",
      "Data point 42: Uncertainty score = -2.5713\n",
      "Data point 43: Uncertainty score = -1.5000\n",
      "Data point 44: Uncertainty score = -11.4986\n",
      "Data point 45: Uncertainty score = -1.5000\n",
      "Data point 46: Uncertainty score = -2.3333\n",
      "Data point 47: Uncertainty score = -2.4482\n",
      "Data point 48: Uncertainty score = -3.5453\n",
      "Data point 49: Uncertainty score = -98.9011\n",
      "Data point 50: Uncertainty score = -3.5453\n",
      "Data point 51: Uncertainty score = -1.5000\n",
      "Data point 52: Uncertainty score = -2.5713\n",
      "Data point 53: Uncertainty score = -1.5000\n",
      "Data point 54: Uncertainty score = -3.5453\n",
      "Data point 55: Uncertainty score = -3.5453\n",
      "Data point 56: Uncertainty score = -98.9011\n",
      "Data point 57: Uncertainty score = -1.5000\n",
      "Data point 58: Uncertainty score = -1.8571\n",
      "Data point 59: Uncertainty score = -3.1665\n",
      "Data point 60: Uncertainty score = -2.4482\n",
      "Data point 61: Uncertainty score = -6.1424\n",
      "Data point 62: Uncertainty score = -11.4986\n",
      "Data point 63: Uncertainty score = -100000.0000\n",
      "Data point 64: Uncertainty score = -1.5000\n",
      "Data point 65: Uncertainty score = -48.9755\n",
      "Data point 66: Uncertainty score = -32.3226\n",
      "Data point 67: Uncertainty score = -2.3333\n",
      "Data point 68: Uncertainty score = -100000.0000\n",
      "Data point 69: Uncertainty score = -15.6641\n",
      "Data point 70: Uncertainty score = -100000.0000\n",
      "Data point 71: Uncertainty score = -23.9940\n",
      "Data point 72: Uncertainty score = -5.2497\n",
      "Data point 73: Uncertainty score = -100000.0000\n",
      "Data point 74: Uncertainty score = -5.6663\n",
      "Data point 75: Uncertainty score = -5.2497\n",
      "Data point 76: Uncertainty score = -5.2497\n",
      "Data point 77: Uncertainty score = -100000.0000\n",
      "Data point 78: Uncertainty score = -2.3333\n",
      "Data point 79: Uncertainty score = -2.4482\n",
      "Data point 80: Uncertainty score = -5.2497\n",
      "Data point 81: Uncertainty score = -98.9011\n",
      "Data point 82: Uncertainty score = -1.9411\n",
      "Data point 83: Uncertainty score = -1.7777\n",
      "Data point 84: Uncertainty score = -2.4482\n",
      "Data point 85: Uncertainty score = -3.5453\n",
      "Data point 86: Uncertainty score = -98.9011\n",
      "Data point 87: Uncertainty score = -2.3333\n",
      "Data point 88: Uncertainty score = -2.4482\n",
      "Data point 89: Uncertainty score = -1.7027\n",
      "Data point 90: Uncertainty score = -100000.0000\n"
     ]
    }
   ],
   "source": [
    "# Print the uncertainty scores for the data points in the pool\n",
    "for i, uncertainty in enumerate(uncertainty_scores):\n",
    "    print(f\"Data point {i+1}: Uncertainty score = {uncertainty:.4f}\")"
   ]
  },
  {
   "cell_type": "code",
   "execution_count": null,
   "id": "6ce7b33c",
   "metadata": {},
   "outputs": [],
   "source": []
  },
  {
   "cell_type": "code",
   "execution_count": null,
   "id": "2d32dbf4",
   "metadata": {},
   "outputs": [],
   "source": []
  }
 ],
 "metadata": {
  "kernelspec": {
   "display_name": "Python 3 (ipykernel)",
   "language": "python",
   "name": "python3"
  },
  "language_info": {
   "codemirror_mode": {
    "name": "ipython",
    "version": 3
   },
   "file_extension": ".py",
   "mimetype": "text/x-python",
   "name": "python",
   "nbconvert_exporter": "python",
   "pygments_lexer": "ipython3",
   "version": "3.9.13"
  }
 },
 "nbformat": 4,
 "nbformat_minor": 5
}
