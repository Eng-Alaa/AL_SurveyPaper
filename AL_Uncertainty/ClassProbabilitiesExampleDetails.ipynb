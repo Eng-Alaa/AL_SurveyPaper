{
 "cells": [
  {
   "cell_type": "code",
   "execution_count": 1,
   "id": "6ed427e7",
   "metadata": {},
   "outputs": [],
   "source": [
    "import numpy as np"
   ]
  },
  {
   "cell_type": "code",
   "execution_count": 2,
   "id": "fca2accd",
   "metadata": {},
   "outputs": [],
   "source": [
    "# Define the training data\n",
    "X_train = np.array([[10, 1],\n",
    "                    [15, 0],\n",
    "                    [5, 1],\n",
    "                    [8, 0]])\n",
    "\n",
    "y_train = np.array([1, 1, 0, 0])"
   ]
  },
  {
   "cell_type": "code",
   "execution_count": 4,
   "id": "ec28d423",
   "metadata": {},
   "outputs": [],
   "source": [
    "# Initialize the weights\n",
    "weights = np.zeros(X_train.shape[1] + 1)  # Including bias term\n",
    "# Set the learning rate and number of epochs\n",
    "learning_rate = 0.01\n",
    "num_epochs = 100"
   ]
  },
  {
   "cell_type": "code",
   "execution_count": 5,
   "id": "2a77151f",
   "metadata": {},
   "outputs": [],
   "source": [
    "# Define the sigmoid function\n",
    "def sigmoid(z):\n",
    "    return 1 / (1 + np.exp(-z))\n",
    "\n",
    "# Define the binary cross-entropy loss function\n",
    "def binary_cross_entropy(y_true, y_pred):\n",
    "    return -(y_true * np.log(y_pred) + (1 - y_true) * np.log(1 - y_pred))"
   ]
  },
  {
   "cell_type": "code",
   "execution_count": 6,
   "id": "bb8b2fc7",
   "metadata": {},
   "outputs": [],
   "source": [
    "# Training the logistic regression model using gradient descent\n",
    "for epoch in range(num_epochs):\n",
    "    # Compute linear combination\n",
    "    Z = np.dot(X_train, weights[1:]) + weights[0]\n",
    "\n",
    "    # Apply sigmoid function\n",
    "    predictions = sigmoid(Z)\n",
    "\n",
    "    # Calculate the loss\n",
    "    loss = binary_cross_entropy(y_train, predictions)\n",
    "\n",
    "    # Compute gradients\n",
    "    gradient = np.dot(X_train.T, predictions - y_train) / len(y_train)\n",
    "    bias_gradient = np.mean(predictions - y_train)\n",
    "\n",
    "    # Update weights\n",
    "    weights[1:] -= learning_rate * gradient\n",
    "    weights[0] -= learning_rate * bias_gradient"
   ]
  },
  {
   "cell_type": "code",
   "execution_count": 7,
   "id": "c046bcc0",
   "metadata": {},
   "outputs": [
    {
     "name": "stdout",
     "output_type": "stream",
     "text": [
      "[-0.12912954  0.07416327 -0.0486169 ]\n"
     ]
    }
   ],
   "source": [
    "print(weights)"
   ]
  },
  {
   "cell_type": "code",
   "execution_count": 8,
   "id": "45c29130",
   "metadata": {},
   "outputs": [],
   "source": [
    "# Define a test data point\n",
    "X_test = np.array([12, 1])"
   ]
  },
  {
   "cell_type": "code",
   "execution_count": 9,
   "id": "39eff3f0",
   "metadata": {},
   "outputs": [],
   "source": [
    "# Make predictions for the test data point\n",
    "linear_combination = np.dot(X_test, weights[1:]) + weights[0]\n",
    "predicted_prob = sigmoid(linear_combination)"
   ]
  },
  {
   "cell_type": "code",
   "execution_count": 10,
   "id": "4af83a1e",
   "metadata": {},
   "outputs": [
    {
     "name": "stdout",
     "output_type": "stream",
     "text": [
      "Class Probabilities:\n",
      "Class 0: 0.32911008671334396\n",
      "Class 1: 0.670889913286656\n"
     ]
    }
   ],
   "source": [
    "# Print the class probabilities\n",
    "print(\"Class Probabilities:\")\n",
    "print(\"Class 0:\", 1 - predicted_prob)\n",
    "print(\"Class 1:\", predicted_prob)"
   ]
  },
  {
   "cell_type": "code",
   "execution_count": null,
   "id": "304c9c58",
   "metadata": {},
   "outputs": [],
   "source": []
  }
 ],
 "metadata": {
  "kernelspec": {
   "display_name": "Python 3 (ipykernel)",
   "language": "python",
   "name": "python3"
  },
  "language_info": {
   "codemirror_mode": {
    "name": "ipython",
    "version": 3
   },
   "file_extension": ".py",
   "mimetype": "text/x-python",
   "name": "python",
   "nbconvert_exporter": "python",
   "pygments_lexer": "ipython3",
   "version": "3.9.13"
  }
 },
 "nbformat": 4,
 "nbformat_minor": 5
}
