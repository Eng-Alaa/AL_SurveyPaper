{
 "cells": [
  {
   "cell_type": "code",
   "execution_count": 1,
   "id": "622fe372",
   "metadata": {},
   "outputs": [],
   "source": [
    "import torch\n",
    "import torch.nn as nn\n",
    "import torch.nn.functional as F\n",
    "import torchvision\n",
    "import torchvision.transforms as transforms\n",
    "import matplotlib.pyplot as plt\n",
    "import numpy as np\n",
    "import math"
   ]
  },
  {
   "cell_type": "code",
   "execution_count": 2,
   "id": "26f6b605",
   "metadata": {},
   "outputs": [],
   "source": [
    "# Device configuration\n",
    "device = torch.device('cuda' if torch.cuda.is_available() else 'cpu')\n",
    "\n",
    "# Hyper-parameters \n",
    "num_epochs = 5\n",
    "learning_rate = 0.001\n",
    "\n",
    "# We transform them to Tensors of normalized range [-1, 1]\n",
    "#transform = transforms.Compose([transforms.ToTensor(),transforms.Normalize((0.5, 0.5, 0.5), (0.5, 0.5, 0.5))])"
   ]
  },
  {
   "cell_type": "code",
   "execution_count": 3,
   "id": "5bfc4ca1",
   "metadata": {},
   "outputs": [],
   "source": [
    "# Given training indices, this function returns the training and pool data\n",
    "def Get_data(X_pool, y_pool, Query_Size, X_train, y_train, training_indices):\n",
    "    New_train_data=X_pool[training_indices,:]\n",
    "    #New_train_data=New_train_data.reshape(-1,28*28).to(device, dtype=torch.float32)\n",
    "    X_train=torch.cat((X_train,New_train_data),0)    \n",
    "    New_train_targets=y_pool[training_indices]\n",
    "    #Plot_PieChart(New_train_targets, 'PieChart_R', q+1)\n",
    "    y_train=torch.cat((y_train,New_train_targets),0)\n",
    "    mask = torch.ones(X_pool.shape[0], dtype=torch.bool)\n",
    "    mask[training_indices] = False\n",
    "    X_pool = X_pool[mask]\n",
    "    y_pool = np.delete(y_pool, training_indices, axis=0)\n",
    "    return X_pool, y_pool, X_train, y_train "
   ]
  },
  {
   "cell_type": "code",
   "execution_count": 4,
   "id": "0e69c757",
   "metadata": {},
   "outputs": [],
   "source": [
    "# Sampling methods\n",
    "def LeastConfident(X_pool, y_pool, Query_Size, X_train, y_train):\n",
    "    #X_pool=X_pool.reshape(-1,28*28).to(device, dtype=torch.float32)\n",
    "    outputs= model(X_pool)\n",
    "    #value, predicted = torch.max(outputs.data, 1)\n",
    "    prob = F.softmax(outputs,dim=1)    \n",
    "    uncertainties = prob.max(1)[0]\n",
    "    training_indices=uncertainties.sort()[1][:Query_Size]\n",
    "    return Get_data(X_pool, y_pool, Query_Size, X_train, y_train, training_indices)\n",
    "\n",
    "def RandomSampling(X_pool, y_pool, Query_Size, X_train, y_train):\n",
    "    new_samples=X_pool.shape[0]\n",
    "    RandPer=torch.randperm(new_samples)\n",
    "    training_indices = RandPer[0:Query_Size]\n",
    "    return Get_data(X_pool, y_pool, Query_Size, X_train, y_train, training_indices)\n",
    "\n",
    "# Least margin sampling method\n",
    "def LeastMargin(X_pool, y_pool, Query_Size, X_train, y_train):\n",
    "    #X_pool=X_pool.reshape(-1,28*28).to(device, dtype=torch.float32)\n",
    "    outputs = model(X_pool)\n",
    "    #value, predicted = torch.max(outputs.data, 1)\n",
    "    prob = F.softmax(outputs,dim=1)\n",
    "    probs_sorted, idxs = prob.sort(descending=True)\n",
    "    uncertainties = probs_sorted[:, 0] - probs_sorted[:,1]\n",
    "    training_indices=uncertainties.sort()[1][:Query_Size] # [1] return only inicies\n",
    "    return Get_data(X_pool, y_pool, Query_Size, X_train, y_train, training_indices)\n",
    "\n",
    "# Entropy sampling method\n",
    "def EntropySampling(X_pool, y_pool, Query_Size, X_train, y_train):\n",
    "    #X_pool=X_pool.reshape(-1,28*28).to(device, dtype=torch.float32)\n",
    "    outputs = model(X_pool)\n",
    "    probs = F.softmax(outputs,dim=1)    \n",
    "    log_probs = torch.log(probs)\n",
    "    uncertainties = (probs*log_probs).sum(1)  \n",
    "    training_indices=uncertainties.sort()[1][:Query_Size]\n",
    "    return Get_data(X_pool, y_pool, Query_Size, X_train, y_train, training_indices)"
   ]
  },
  {
   "cell_type": "code",
   "execution_count": 5,
   "id": "9cecbb09",
   "metadata": {},
   "outputs": [],
   "source": [
    "# prepare training data\n",
    "per_init_labeled=0.05 # percentage of labeled points\n",
    "train_dataset = torchvision.datasets.MNIST(root='./data',train=True, transform=transforms.ToTensor(), download=True)\n",
    "training_data, training_targets= train_dataset.data, train_dataset.targets\n",
    "n_samples=training_data.shape[0]\n",
    "training_indices= np.random.choice(n_samples, math.ceil(per_init_labeled*n_samples), replace=False)\n",
    "# select the initial labeled data (size=args.per_init_labeled*n_samples)\n",
    "X_train = training_data[training_indices].reshape(-1,28*28)\n",
    "training_targets = np.array(training_targets)\n",
    "y_train = training_targets[training_indices]\n",
    "mask = torch.ones(training_data.shape[0], dtype=torch.bool)\n",
    "mask[training_indices] = False # mark all selected data (i.e., labeled data)\n",
    "#x_train_adjusted=torch.tensor(X_train)\n",
    "x_train_adjusted=X_train.clone().detach()\n",
    "y_train=torch.tensor(y_train).to(torch.long)\n",
    "\n",
    "classes = ('0', '1', '2', '3', '4', '5', '6', '7', '8', '9')"
   ]
  },
  {
   "cell_type": "code",
   "execution_count": 6,
   "id": "44ca3c8f",
   "metadata": {},
   "outputs": [],
   "source": [
    "# Prepare pool data (i.e., the rest of the data, which are unlabeled)\n",
    "X_pool = training_data[mask].reshape(-1,28*28)\n",
    "#X_pool=torch.tensor(X_pool)\n",
    "X_pool=X_pool.clone().detach()\n",
    "y_pool = training_targets[mask]\n",
    "y_pool = torch.tensor(y_pool).to(torch.long)\n",
    "X_pool=X_pool.to(torch.float32)\n",
    "X_pool=X_pool.to(device)\n",
    "y_pool=y_pool.to(device)"
   ]
  },
  {
   "cell_type": "code",
   "execution_count": 8,
   "id": "19f33a78",
   "metadata": {},
   "outputs": [],
   "source": [
    "# prepare test data\n",
    "test_dataset = torchvision.datasets.MNIST(root='./data', train=False, transform=transforms.ToTensor())\n",
    "testing_data, testing_targets= test_dataset.data, test_dataset.targets\n",
    "n_test_samples=testing_data.shape[0]\n",
    "testing_targets = np.array(testing_targets)\n",
    "x_test_adjusted=testing_data.reshape([-1,28*28])\n",
    "x_test_adjusted=x_test_adjusted.clone().detach()\n",
    "y_test=torch.tensor(testing_targets).to(torch.long)"
   ]
  },
  {
   "cell_type": "code",
   "execution_count": 9,
   "id": "95c5d42b",
   "metadata": {},
   "outputs": [],
   "source": [
    "# the model\n",
    "class ConvNet(nn.Module):\n",
    "    def __init__(self):\n",
    "        super(ConvNet, self).__init__()\n",
    "        self.linear1 = nn.Linear(784,250)\n",
    "        self.linear2 = nn.Linear(250,100)\n",
    "        self.linear3 = nn.Linear(100,10)\n",
    "       \n",
    "    def forward(self, x):\n",
    "        # -> n, 3, 32, 32\n",
    "        x = F.relu(self.linear1(x))\n",
    "        x = F.relu(self.linear2(x))\n",
    "        x = self.linear3(x)\n",
    "        return F.log_softmax(x, dim=1)\n",
    "        #return x\n",
    "\n",
    "model = ConvNet().to(device)\n",
    "\n",
    "criterion = nn.CrossEntropyLoss()\n",
    "learning_rate = 0.001\n",
    "#optimizer = torch.optim.SGD(model.parameters(), lr=learning_rate)\n",
    "optimizer = torch.optim.Adam(model.parameters())#,lr=0.001, betas=(0.9,0.999))"
   ]
  },
  {
   "cell_type": "code",
   "execution_count": 10,
   "id": "756aca6c",
   "metadata": {},
   "outputs": [
    {
     "name": "stdout",
     "output_type": "stream",
     "text": [
      "12.609386444091797\n",
      "12.382770538330078\n",
      "8.381644248962402\n",
      "5.7726922035217285\n",
      "4.298091888427734\n"
     ]
    }
   ],
   "source": [
    "# first training\n",
    "num_epochs = 5\n",
    "for epoch in range(num_epochs):\n",
    "    # origin shape: [4, 3, 32, 32] = 4, 3, 1024\n",
    "    x_train_adjusted=x_train_adjusted.to(torch.float32)\n",
    "    x_train_adjusted=x_train_adjusted.to(device)\n",
    "    y_train=y_train.to(device)\n",
    "    outputs = model(x_train_adjusted)\n",
    "    loss = criterion(outputs, y_train)\n",
    "    optimizer.zero_grad()\n",
    "    loss.backward()\n",
    "    optimizer.step()\n",
    "    print(loss.item())"
   ]
  },
  {
   "cell_type": "code",
   "execution_count": 11,
   "id": "ffde3c6e",
   "metadata": {},
   "outputs": [
    {
     "name": "stdout",
     "output_type": "stream",
     "text": [
      "Accuracy of the network: 42.02 %\n",
      "Accuracy of class 0: 51.93877551020408 %\n",
      "Accuracy of class 1: 30.484581497797357 %\n",
      "Accuracy of class 2: 0.29069767441860467 %\n",
      "Accuracy of class 3: 77.32673267326733 %\n",
      "Accuracy of class 4: 88.4928716904277 %\n",
      "Accuracy of class 5: 43.04932735426009 %\n",
      "Accuracy of class 6: 50.0 %\n",
      "Accuracy of class 7: 57.00389105058366 %\n",
      "Accuracy of class 8: 20.636550308008214 %\n",
      "Accuracy of class 9: 4.360753221010902 %\n"
     ]
    }
   ],
   "source": [
    "# calculate the accuracy of the trained model with the test data\n",
    "with torch.no_grad():\n",
    "    n_correct = 0\n",
    "    n_class_correct = [0 for i in range(10)]\n",
    "    n_class_samples = [0 for i in range(10)]\n",
    "    x_test_adjusted=x_test_adjusted.to(torch.float32)\n",
    "    x_test_adjusted=x_test_adjusted.to(device)\n",
    "    outputs = model(x_test_adjusted)\n",
    "    # max returns (value ,index)\n",
    "    _, predicted = torch.max(outputs, 1)\n",
    "    n_samples_test = x_test_adjusted.size(0)\n",
    "    n_correct += (predicted == y_test).sum().item()\n",
    "    for i in range(n_samples_test):\n",
    "        label = y_test[i]\n",
    "        pred = predicted[i]\n",
    "        if (label == pred):\n",
    "            n_class_correct[label] += 1\n",
    "        n_class_samples[label] += 1       \n",
    "\n",
    "    acc = 100.0 * n_correct / n_samples_test\n",
    "    print(f'Accuracy of the network: {acc} %')\n",
    "\n",
    "    for i in range(10):\n",
    "        acc = 100.0 * n_class_correct[i] / n_class_samples[i]\n",
    "        print(f'Accuracy of class {classes[i]}: {acc} %')"
   ]
  },
  {
   "cell_type": "code",
   "execution_count": 12,
   "id": "b99d21d1",
   "metadata": {},
   "outputs": [],
   "source": [
    "# in a loop, the active leraner selects the most uncertain point \n",
    "query_budget=np.int16(0.5*n_samples)\n",
    "Query_rounds=20\n",
    "Query_Size=np.int16(query_budget/Query_rounds)\n",
    "Sampling_method=3\n",
    "acc=np.zeros(Query_rounds+1)\n",
    "epochs_no=10"
   ]
  },
  {
   "cell_type": "code",
   "execution_count": 66,
   "id": "cab2a7e8",
   "metadata": {},
   "outputs": [
    {
     "name": "stdout",
     "output_type": "stream",
     "text": [
      "Accuracy of the testing data on the 4500 training images: 69.29 %\n",
      "Accuracy of the testing data on the 6000 training images: 83.53 %\n",
      "Accuracy of the testing data on the 7500 training images: 85.0 %\n",
      "Accuracy of the testing data on the 9000 training images: 88.4 %\n",
      "Accuracy of the testing data on the 10500 training images: 90.57 %\n",
      "Accuracy of the testing data on the 12000 training images: 91.87 %\n",
      "Accuracy of the testing data on the 13500 training images: 92.46 %\n",
      "Accuracy of the testing data on the 15000 training images: 93.39 %\n",
      "Accuracy of the testing data on the 16500 training images: 93.8 %\n",
      "Accuracy of the testing data on the 18000 training images: 94.1 %\n",
      "Accuracy of the testing data on the 19500 training images: 94.37 %\n",
      "Accuracy of the testing data on the 21000 training images: 94.76 %\n",
      "Accuracy of the testing data on the 22500 training images: 94.92 %\n",
      "Accuracy of the testing data on the 24000 training images: 95.15 %\n",
      "Accuracy of the testing data on the 25500 training images: 95.36 %\n",
      "Accuracy of the testing data on the 27000 training images: 95.45 %\n",
      "Accuracy of the testing data on the 28500 training images: 95.56 %\n",
      "Accuracy of the testing data on the 30000 training images: 95.73 %\n",
      "Accuracy of the testing data on the 31500 training images: 95.89 %\n",
      "Accuracy of the testing data on the 33000 training images: 96.01 %\n"
     ]
    }
   ],
   "source": [
    "for q in range(Query_rounds): \n",
    "    if Sampling_method==0:\n",
    "        X_pool, y_pool, x_train_adjusted, y_train= RandomSampling(X_pool,y_pool, Query_Size, x_train_adjusted, y_train)\n",
    "    elif Sampling_method==1:\n",
    "        X_pool, y_pool, x_train_adjusted, y_train= LeastConfident(X_pool,y_pool, Query_Size, x_train_adjusted, y_train)\n",
    "    elif Sampling_method==2:\n",
    "        X_pool, y_pool, x_train_adjusted, y_train= LeastMargin(X_pool,y_pool, Query_Size, x_train_adjusted, y_train)\n",
    "    else:\n",
    "        X_pool, y_pool, x_train_adjusted, y_train= EntropySampling(X_pool, y_pool, Query_Size, x_train_adjusted, y_train)\n",
    "    \n",
    "    #n_total_steps = len(train_loader)\n",
    "    for epoch in range(num_epochs):\n",
    "        # origin shape: [4, 3, 32, 32] = 4, 3, 1024\n",
    "        x_train_adjusted=x_train_adjusted.to(torch.float32)\n",
    "        x_train_adjusted=x_train_adjusted.to(device)\n",
    "        y_train=y_train.to(device)\n",
    "        outputs = model(x_train_adjusted)\n",
    "        loss = criterion(outputs, y_train)\n",
    "        optimizer.zero_grad()\n",
    "        loss.backward()\n",
    "        optimizer.step()\n",
    "        #print(loss.item())\n",
    "\n",
    "    # Test the model\n",
    "    # In test phase, we don't need to compute gradients (for memory efficiency)\n",
    "    with torch.no_grad():\n",
    "        n_correct = 0\n",
    "        #test_data=test_data.reshape(-1,28*28).to(device, dtype=torch.float32)\n",
    "        outputs = model(x_test_adjusted)\n",
    "        value, predicted = torch.max(outputs.data, 1)\n",
    "        n_correct = (predicted == y_test).sum().item()\n",
    "        acc[q+1] = 100.0 * n_correct / y_test.shape[0]\n",
    "        print(f'Accuracy of the testing data on the {x_train_adjusted.shape[0]:} training images: {acc[q+1]} %')       \n",
    "        if q==(Query_rounds-1):\n",
    "            n_class_correct = [0 for i in range(10)]\n",
    "            n_class_samples = [0 for i in range(10)]\n",
    "            for i in range(n_samples_test):\n",
    "                label = y_test[i]\n",
    "                pred = predicted[i]\n",
    "                if (label == pred):\n",
    "                    n_class_correct[label] += 1\n",
    "                n_class_samples[label] += 1       \n",
    "\n",
    "    #acc = 100.0 * n_correct / n_samples_test\n",
    "    #print(f'Accuracy of the network: {acc} %')"
   ]
  },
  {
   "cell_type": "code",
   "execution_count": 67,
   "id": "56ebb45d",
   "metadata": {},
   "outputs": [
    {
     "name": "stdout",
     "output_type": "stream",
     "text": [
      "Accuracy of the class 1 is: 97.95918367346938\n",
      "Accuracy of the class 2 is: 98.41409691629956\n",
      "Accuracy of the class 3 is: 95.15503875968992\n",
      "Accuracy of the class 4 is: 95.44554455445545\n",
      "Accuracy of the class 5 is: 95.82484725050917\n",
      "Accuracy of the class 6 is: 95.17937219730942\n",
      "Accuracy of the class 7 is: 96.45093945720251\n",
      "Accuracy of the class 8 is: 96.69260700389106\n",
      "Accuracy of the class 9 is: 94.55852156057495\n",
      "Accuracy of the class 10 is: 94.05351833498513\n",
      "number of labeled points of the class 1 is: 2016 isnatances out of 5923\n",
      "number of labeled points of the class 2 is: 3539 isnatances out of 6742\n",
      "number of labeled points of the class 3 is: 2724 isnatances out of 5958\n",
      "number of labeled points of the class 4 is: 3496 isnatances out of 6131\n",
      "number of labeled points of the class 5 is: 3292 isnatances out of 5842\n",
      "number of labeled points of the class 6 is: 3249 isnatances out of 5421\n",
      "number of labeled points of the class 7 is: 2299 isnatances out of 5918\n",
      "number of labeled points of the class 8 is: 2938 isnatances out of 6265\n",
      "number of labeled points of the class 9 is: 4544 isnatances out of 5851\n",
      "number of labeled points of the class 10 is: 4903 isnatances out of 5949\n"
     ]
    },
    {
     "data": {
      "image/png": "[encoded data removed]",
      "text/plain": [
       "<Figure size 640x480 with 1 Axes>"
      ]
     },
     "metadata": {},
     "output_type": "display_data"
    }
   ],
   "source": [
    "for i in range(10):    \n",
    "    print('Accuracy of the class ' + str(i+1) + ' is: ' + str(100*np.array(n_class_correct[i])/np.array(n_class_samples[i])) )\n",
    "\n",
    "for i in range(10):    \n",
    "    print('number of labeled points of the class ' + str(i+1) + ' is: ' + str(np.sum(np.int16(np.array(y_train)==i))) + ' isnatances out of ' + str(np.sum(np.int16(np.array(training_targets)==i))))\n",
    "\n",
    "Labels=[]\n",
    "for k in range(q+2):    \n",
    "    Labels.append(str(3000+k*50))\n",
    "plt.plot(Labels, acc)\n",
    "plt.ylabel('Accuracy (%)')\n",
    "plt.xlabel('No. of labeled points')\n",
    "# plt.savefig('RandomSampling.png')\n",
    "# plt.savefig('RandomSampling.svg')\n",
    "plt.show()"
   ]
  },
  {
   "cell_type": "code",
   "execution_count": null,
   "id": "a99c712f",
   "metadata": {},
   "outputs": [],
   "source": []
  }
 ],
 "metadata": {
  "kernelspec": {
   "display_name": "Python 3 (ipykernel)",
   "language": "python",
   "name": "python3"
  },
  "language_info": {
   "codemirror_mode": {
    "name": "ipython",
    "version": 3
   },
   "file_extension": ".py",
   "mimetype": "text/x-python",
   "name": "python",
   "nbconvert_exporter": "python",
   "pygments_lexer": "ipython3",
   "version": "3.9.13"
  }
 },
 "nbformat": 4,
 "nbformat_minor": 5
}
